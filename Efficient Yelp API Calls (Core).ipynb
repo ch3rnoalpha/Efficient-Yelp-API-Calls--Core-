{
 "cells": [
  {
   "cell_type": "code",
   "execution_count": 1,
   "id": "5d97ff37",
   "metadata": {},
   "outputs": [],
   "source": [
    "# Standard Imports\n",
    "import numpy as np\n",
    "import pandas as pd\n",
    "import matplotlib.pyplot as plt\n",
    "import seaborn as sns\n",
    "# Additional Imports\n",
    "import os, json, math, time\n",
    "from yelpapi import YelpAPI\n",
    "from tqdm.notebook import tqdm_notebook"
   ]
  },
  {
   "cell_type": "code",
   "execution_count": 2,
   "id": "dc99b705",
   "metadata": {},
   "outputs": [],
   "source": [
    "# Load API Credentials\n",
    "with open('/Users/robo1/.secret/yelp_api.json') as f:   #use your path here!\n",
    "    login = json.load(f)\n",
    "# Instantiate YelpAPI Variable\n",
    "yelp_api = YelpAPI(login['api-key'], timeout_s=5.0)"
   ]
  },
  {
   "cell_type": "code",
   "execution_count": 3,
   "id": "4a784c25",
   "metadata": {},
   "outputs": [],
   "source": [
    "# set our API call parameters and filename before the first call\n",
    "LOCATION = 'Seattle, WA,98101'\n",
    "TERM = 'Pizza'"
   ]
  },
  {
   "cell_type": "code",
   "execution_count": 4,
   "id": "780a7e7e",
   "metadata": {},
   "outputs": [
    {
     "data": {
      "text/plain": [
       "'Data/results_in_progress_Pizza.json'"
      ]
     },
     "execution_count": 4,
     "metadata": {},
     "output_type": "execute_result"
    }
   ],
   "source": [
    "# Specifying JSON_FILE filename (can include a folder)\n",
    "# include the search terms in the filename\n",
    "JSON_FILE = f\"Data/results_in_progress_Pizza.json\"\n",
    "JSON_FILE"
   ]
  },
  {
   "cell_type": "code",
   "execution_count": 5,
   "id": "8d5cfec9",
   "metadata": {},
   "outputs": [
    {
     "name": "stdout",
     "output_type": "stream",
     "text": [
      "[i] Data/results_in_progress_Pizza.json not found. Saving empty list to file.\n"
     ]
    }
   ],
   "source": [
    "## Check if JSON_FILE exists\n",
    "file_exists = os.path.isfile(JSON_FILE)\n",
    "## If it does not exist: \n",
    "if file_exists == False:\n",
    "    \n",
    "    ## CREATE ANY NEEDED FOLDERS\n",
    "    # Get the Folder Name only\n",
    "    folder = os.path.dirname(JSON_FILE)\n",
    "    ## If JSON_FILE included a folder:\n",
    "    if len(folder)>0:\n",
    "        # create the folder\n",
    "        os.makedirs(folder,exist_ok=True)\n",
    "        \n",
    "        \n",
    "    ## INFORM USER AND SAVE EMPTY LIST\n",
    "    print(f\"[i] {JSON_FILE} not found. Saving empty list to file.\")\n",
    "    \n",
    "    \n",
    "    ## save the first page of results\n",
    "    with open(JSON_FILE,'w') as f:\n",
    "        json.dump([],f)  \n",
    "## If it exists, inform user\n",
    "else:\n",
    "    print(f\"[i] {JSON_FILE} already exists.\")"
   ]
  },
  {
   "cell_type": "code",
   "execution_count": 6,
   "id": "270d08b9",
   "metadata": {},
   "outputs": [
    {
     "name": "stdout",
     "output_type": "stream",
     "text": [
      "- 0 previous results found.\n"
     ]
    }
   ],
   "source": [
    "## Load previous results and use len of results for offset\n",
    "with open(JSON_FILE,'r') as f:\n",
    "    previous_results = json.load(f)\n",
    "    \n",
    "## set offset based on previous results\n",
    "n_results = len(previous_results)\n",
    "print(f'- {n_results} previous results found.')"
   ]
  },
  {
   "cell_type": "code",
   "execution_count": 7,
   "id": "e728543b",
   "metadata": {},
   "outputs": [
    {
     "data": {
      "text/plain": [
       "dict_keys(['businesses', 'total', 'region'])"
      ]
     },
     "execution_count": 7,
     "metadata": {},
     "output_type": "execute_result"
    }
   ],
   "source": [
    "# use our yelp_api variable's search_query method to perform our API call\n",
    "results = yelp_api.search_query(location=LOCATION,\n",
    "                                term=TERM,\n",
    "                               offset=n_results)\n",
    "results.keys()"
   ]
  },
  {
   "cell_type": "code",
   "execution_count": 8,
   "id": "7dbf2668",
   "metadata": {},
   "outputs": [
    {
     "data": {
      "text/plain": [
       "351"
      ]
     },
     "execution_count": 8,
     "metadata": {},
     "output_type": "execute_result"
    }
   ],
   "source": [
    "## How many results total?\n",
    "total_results = results['total']\n",
    "total_results"
   ]
  },
  {
   "cell_type": "code",
   "execution_count": 9,
   "id": "7eedfff3",
   "metadata": {},
   "outputs": [
    {
     "data": {
      "text/plain": [
       "20"
      ]
     },
     "execution_count": 9,
     "metadata": {},
     "output_type": "execute_result"
    }
   ],
   "source": [
    "## How many did we get the details for?\n",
    "results_per_page = len(results['businesses'])\n",
    "results_per_page"
   ]
  },
  {
   "cell_type": "code",
   "execution_count": 10,
   "id": "cb6ff6ec",
   "metadata": {},
   "outputs": [
    {
     "data": {
      "text/plain": [
       "18"
      ]
     },
     "execution_count": 10,
     "metadata": {},
     "output_type": "execute_result"
    }
   ],
   "source": [
    "# Import additional packages for controlling our loop\n",
    "import time, math\n",
    "# Use math.ceil to round up for the total number of pages of results.\n",
    "n_pages = math.ceil((results['total']-n_results)/ results_per_page)\n",
    "n_pages"
   ]
  },
  {
   "cell_type": "code",
   "execution_count": 11,
   "id": "4fce6f2f",
   "metadata": {},
   "outputs": [],
   "source": [
    "# join new results with old list with extend and save to file\n",
    "previous_results.extend(results['businesses'])  \n",
    "with open(JSON_FILE,'w') as f:\n",
    "     json.dump(previous_results,f)"
   ]
  },
  {
   "cell_type": "code",
   "execution_count": 12,
   "id": "928f4e50",
   "metadata": {},
   "outputs": [
    {
     "data": {
      "application/vnd.jupyter.widget-view+json": {
       "model_id": "63fb1c9872fa4ce5bb18cc5761d2829e",
       "version_major": 2,
       "version_minor": 0
      },
      "text/plain": [
       "  0%|          | 0/18 [00:00<?, ?it/s]"
      ]
     },
     "metadata": {},
     "output_type": "display_data"
    }
   ],
   "source": [
    "from tqdm.notebook import tqdm_notebook\n",
    "import time\n",
    "for i in tqdm_notebook(range(n_pages)):\n",
    "    # adds 200 ms pause\n",
    "    time.sleep(.2) "
   ]
  },
  {
   "cell_type": "code",
   "execution_count": 13,
   "id": "4f804d94",
   "metadata": {},
   "outputs": [
    {
     "data": {
      "application/vnd.jupyter.widget-view+json": {
       "model_id": "d5cf6aa5bdf142eda932ec6961912931",
       "version_major": 2,
       "version_minor": 0
      },
      "text/plain": [
       "  0%|          | 0/18 [00:00<?, ?it/s]"
      ]
     },
     "metadata": {},
     "output_type": "display_data"
    }
   ],
   "source": [
    "for i in tqdm_notebook( range(1,n_pages+1)):\n",
    "    time.sleep(.2)\n",
    "    ## Read in results in progress file and check the length\n",
    "    with open(JSON_FILE, 'r') as f:\n",
    "        previous_results = json.load(f)\n",
    "    ## save number of results for to use as offset\n",
    "    n_results = len(previous_results)\n",
    "    ## use n_results as the OFFSET \n",
    "    results = yelp_api.search_query(location=LOCATION,\n",
    "                                    term=TERM, \n",
    "                                    offset=n_results)\n",
    "    \n",
    "    ## append new results and save to file\n",
    "    previous_results.extend(results['businesses'])\n",
    "    \n",
    "#     display(previous_results)\n",
    "    with open(JSON_FILE,'w') as f:\n",
    "        json.dump(previous_results,f)"
   ]
  },
  {
   "cell_type": "code",
   "execution_count": 14,
   "id": "3ef7adee",
   "metadata": {},
   "outputs": [
    {
     "data": {
      "text/html": [
       "<div>\n",
       "<style scoped>\n",
       "    .dataframe tbody tr th:only-of-type {\n",
       "        vertical-align: middle;\n",
       "    }\n",
       "\n",
       "    .dataframe tbody tr th {\n",
       "        vertical-align: top;\n",
       "    }\n",
       "\n",
       "    .dataframe thead th {\n",
       "        text-align: right;\n",
       "    }\n",
       "</style>\n",
       "<table border=\"1\" class=\"dataframe\">\n",
       "  <thead>\n",
       "    <tr style=\"text-align: right;\">\n",
       "      <th></th>\n",
       "      <th>id</th>\n",
       "      <th>alias</th>\n",
       "      <th>name</th>\n",
       "      <th>image_url</th>\n",
       "      <th>is_closed</th>\n",
       "      <th>url</th>\n",
       "      <th>review_count</th>\n",
       "      <th>categories</th>\n",
       "      <th>rating</th>\n",
       "      <th>coordinates</th>\n",
       "      <th>transactions</th>\n",
       "      <th>price</th>\n",
       "      <th>location</th>\n",
       "      <th>phone</th>\n",
       "      <th>display_phone</th>\n",
       "      <th>distance</th>\n",
       "    </tr>\n",
       "  </thead>\n",
       "  <tbody>\n",
       "    <tr>\n",
       "      <th>0</th>\n",
       "      <td>-FOAQv22SXtSBs7nptI3UA</td>\n",
       "      <td>serious-pie-downtown-seattle-2</td>\n",
       "      <td>Serious Pie Downtown</td>\n",
       "      <td>https://s3-media2.fl.yelpcdn.com/bphoto/dy0pJ5...</td>\n",
       "      <td>False</td>\n",
       "      <td>https://www.yelp.com/biz/serious-pie-downtown-...</td>\n",
       "      <td>4357</td>\n",
       "      <td>[{'alias': 'pizza', 'title': 'Pizza'}, {'alias...</td>\n",
       "      <td>4.0</td>\n",
       "      <td>{'latitude': 47.61285776946637, 'longitude': -...</td>\n",
       "      <td>[delivery, pickup]</td>\n",
       "      <td>$$</td>\n",
       "      <td>{'address1': '2001 4th Ave', 'address2': None,...</td>\n",
       "      <td>+12068387388</td>\n",
       "      <td>(206) 838-7388</td>\n",
       "      <td>516.760327</td>\n",
       "    </tr>\n",
       "    <tr>\n",
       "      <th>1</th>\n",
       "      <td>1rkgyfwzXG7qSdVZdfRt7g</td>\n",
       "      <td>roccos-seattle</td>\n",
       "      <td>Rocco's</td>\n",
       "      <td>https://s3-media3.fl.yelpcdn.com/bphoto/pf6jTK...</td>\n",
       "      <td>False</td>\n",
       "      <td>https://www.yelp.com/biz/roccos-seattle?adjust...</td>\n",
       "      <td>1669</td>\n",
       "      <td>[{'alias': 'bars', 'title': 'Bars'}, {'alias':...</td>\n",
       "      <td>4.0</td>\n",
       "      <td>{'latitude': 47.614470434736106, 'longitude': ...</td>\n",
       "      <td>[delivery, pickup]</td>\n",
       "      <td>$$</td>\n",
       "      <td>{'address1': '2312 2nd Ave', 'address2': '', '...</td>\n",
       "      <td>+12063974210</td>\n",
       "      <td>(206) 397-4210</td>\n",
       "      <td>961.965681</td>\n",
       "    </tr>\n",
       "    <tr>\n",
       "      <th>2</th>\n",
       "      <td>6bfJ_M7lQvwwmgE6RtTeog</td>\n",
       "      <td>slices-seattle-4</td>\n",
       "      <td>Slices</td>\n",
       "      <td>https://s3-media1.fl.yelpcdn.com/bphoto/GevkHx...</td>\n",
       "      <td>False</td>\n",
       "      <td>https://www.yelp.com/biz/slices-seattle-4?adju...</td>\n",
       "      <td>28</td>\n",
       "      <td>[{'alias': 'pizza', 'title': 'Pizza'}, {'alias...</td>\n",
       "      <td>4.5</td>\n",
       "      <td>{'latitude': 47.61407, 'longitude': -122.33348}</td>\n",
       "      <td>[delivery, pickup]</td>\n",
       "      <td>NaN</td>\n",
       "      <td>{'address1': '809 Olive Way', 'address2': '', ...</td>\n",
       "      <td>+12062236150</td>\n",
       "      <td>(206) 223-6150</td>\n",
       "      <td>304.325390</td>\n",
       "    </tr>\n",
       "    <tr>\n",
       "      <th>3</th>\n",
       "      <td>ugTsEtjvwRhteac_6JcuPw</td>\n",
       "      <td>italian-family-pizza-seattle</td>\n",
       "      <td>Italian Family Pizza</td>\n",
       "      <td>https://s3-media2.fl.yelpcdn.com/bphoto/SgiSrJ...</td>\n",
       "      <td>False</td>\n",
       "      <td>https://www.yelp.com/biz/italian-family-pizza-...</td>\n",
       "      <td>967</td>\n",
       "      <td>[{'alias': 'pizza', 'title': 'Pizza'}, {'alias...</td>\n",
       "      <td>4.0</td>\n",
       "      <td>{'latitude': 47.60937, 'longitude': -122.32546}</td>\n",
       "      <td>[delivery, pickup]</td>\n",
       "      <td>$$</td>\n",
       "      <td>{'address1': '1028 Madison St', 'address2': No...</td>\n",
       "      <td>+12065380040</td>\n",
       "      <td>(206) 538-0040</td>\n",
       "      <td>680.217720</td>\n",
       "    </tr>\n",
       "    <tr>\n",
       "      <th>4</th>\n",
       "      <td>M9xzvwgK58T0w7wvXedvuQ</td>\n",
       "      <td>hot-mamas-pizza-seattle</td>\n",
       "      <td>Hot Mama's Pizza</td>\n",
       "      <td>https://s3-media1.fl.yelpcdn.com/bphoto/pcUxq_...</td>\n",
       "      <td>False</td>\n",
       "      <td>https://www.yelp.com/biz/hot-mamas-pizza-seatt...</td>\n",
       "      <td>920</td>\n",
       "      <td>[{'alias': 'pizza', 'title': 'Pizza'}]</td>\n",
       "      <td>4.0</td>\n",
       "      <td>{'latitude': 47.615379179632, 'longitude': -12...</td>\n",
       "      <td>[delivery]</td>\n",
       "      <td>$</td>\n",
       "      <td>{'address1': '700 E Pine St', 'address2': '', ...</td>\n",
       "      <td>+12063226444</td>\n",
       "      <td>(206) 322-6444</td>\n",
       "      <td>922.436262</td>\n",
       "    </tr>\n",
       "  </tbody>\n",
       "</table>\n",
       "</div>"
      ],
      "text/plain": [
       "                       id                           alias  \\\n",
       "0  -FOAQv22SXtSBs7nptI3UA  serious-pie-downtown-seattle-2   \n",
       "1  1rkgyfwzXG7qSdVZdfRt7g                  roccos-seattle   \n",
       "2  6bfJ_M7lQvwwmgE6RtTeog                slices-seattle-4   \n",
       "3  ugTsEtjvwRhteac_6JcuPw    italian-family-pizza-seattle   \n",
       "4  M9xzvwgK58T0w7wvXedvuQ         hot-mamas-pizza-seattle   \n",
       "\n",
       "                   name                                          image_url  \\\n",
       "0  Serious Pie Downtown  https://s3-media2.fl.yelpcdn.com/bphoto/dy0pJ5...   \n",
       "1               Rocco's  https://s3-media3.fl.yelpcdn.com/bphoto/pf6jTK...   \n",
       "2                Slices  https://s3-media1.fl.yelpcdn.com/bphoto/GevkHx...   \n",
       "3  Italian Family Pizza  https://s3-media2.fl.yelpcdn.com/bphoto/SgiSrJ...   \n",
       "4      Hot Mama's Pizza  https://s3-media1.fl.yelpcdn.com/bphoto/pcUxq_...   \n",
       "\n",
       "   is_closed                                                url  review_count  \\\n",
       "0      False  https://www.yelp.com/biz/serious-pie-downtown-...          4357   \n",
       "1      False  https://www.yelp.com/biz/roccos-seattle?adjust...          1669   \n",
       "2      False  https://www.yelp.com/biz/slices-seattle-4?adju...            28   \n",
       "3      False  https://www.yelp.com/biz/italian-family-pizza-...           967   \n",
       "4      False  https://www.yelp.com/biz/hot-mamas-pizza-seatt...           920   \n",
       "\n",
       "                                          categories  rating  \\\n",
       "0  [{'alias': 'pizza', 'title': 'Pizza'}, {'alias...     4.0   \n",
       "1  [{'alias': 'bars', 'title': 'Bars'}, {'alias':...     4.0   \n",
       "2  [{'alias': 'pizza', 'title': 'Pizza'}, {'alias...     4.5   \n",
       "3  [{'alias': 'pizza', 'title': 'Pizza'}, {'alias...     4.0   \n",
       "4             [{'alias': 'pizza', 'title': 'Pizza'}]     4.0   \n",
       "\n",
       "                                         coordinates        transactions  \\\n",
       "0  {'latitude': 47.61285776946637, 'longitude': -...  [delivery, pickup]   \n",
       "1  {'latitude': 47.614470434736106, 'longitude': ...  [delivery, pickup]   \n",
       "2    {'latitude': 47.61407, 'longitude': -122.33348}  [delivery, pickup]   \n",
       "3    {'latitude': 47.60937, 'longitude': -122.32546}  [delivery, pickup]   \n",
       "4  {'latitude': 47.615379179632, 'longitude': -12...          [delivery]   \n",
       "\n",
       "  price                                           location         phone  \\\n",
       "0    $$  {'address1': '2001 4th Ave', 'address2': None,...  +12068387388   \n",
       "1    $$  {'address1': '2312 2nd Ave', 'address2': '', '...  +12063974210   \n",
       "2   NaN  {'address1': '809 Olive Way', 'address2': '', ...  +12062236150   \n",
       "3    $$  {'address1': '1028 Madison St', 'address2': No...  +12065380040   \n",
       "4     $  {'address1': '700 E Pine St', 'address2': '', ...  +12063226444   \n",
       "\n",
       "    display_phone    distance  \n",
       "0  (206) 838-7388  516.760327  \n",
       "1  (206) 397-4210  961.965681  \n",
       "2  (206) 223-6150  304.325390  \n",
       "3  (206) 538-0040  680.217720  \n",
       "4  (206) 322-6444  922.436262  "
      ]
     },
     "metadata": {},
     "output_type": "display_data"
    },
    {
     "data": {
      "text/html": [
       "<div>\n",
       "<style scoped>\n",
       "    .dataframe tbody tr th:only-of-type {\n",
       "        vertical-align: middle;\n",
       "    }\n",
       "\n",
       "    .dataframe tbody tr th {\n",
       "        vertical-align: top;\n",
       "    }\n",
       "\n",
       "    .dataframe thead th {\n",
       "        text-align: right;\n",
       "    }\n",
       "</style>\n",
       "<table border=\"1\" class=\"dataframe\">\n",
       "  <thead>\n",
       "    <tr style=\"text-align: right;\">\n",
       "      <th></th>\n",
       "      <th>id</th>\n",
       "      <th>alias</th>\n",
       "      <th>name</th>\n",
       "      <th>image_url</th>\n",
       "      <th>is_closed</th>\n",
       "      <th>url</th>\n",
       "      <th>review_count</th>\n",
       "      <th>categories</th>\n",
       "      <th>rating</th>\n",
       "      <th>coordinates</th>\n",
       "      <th>transactions</th>\n",
       "      <th>price</th>\n",
       "      <th>location</th>\n",
       "      <th>phone</th>\n",
       "      <th>display_phone</th>\n",
       "      <th>distance</th>\n",
       "    </tr>\n",
       "  </thead>\n",
       "  <tbody>\n",
       "    <tr>\n",
       "      <th>346</th>\n",
       "      <td>hq6gIALemQa6qLANEG1vYQ</td>\n",
       "      <td>racha-thai-and-asian-kitchen-seattle</td>\n",
       "      <td>Racha Thai &amp; Asian Kitchen</td>\n",
       "      <td>https://s3-media3.fl.yelpcdn.com/bphoto/_5ZVIa...</td>\n",
       "      <td>False</td>\n",
       "      <td>https://www.yelp.com/biz/racha-thai-and-asian-...</td>\n",
       "      <td>538</td>\n",
       "      <td>[{'alias': 'thai', 'title': 'Thai'}, {'alias':...</td>\n",
       "      <td>3.5</td>\n",
       "      <td>{'latitude': 47.6249992, 'longitude': -122.356...</td>\n",
       "      <td>[delivery, pickup]</td>\n",
       "      <td>$$</td>\n",
       "      <td>{'address1': '12 Mercer St', 'address2': '', '...</td>\n",
       "      <td>+12062818883</td>\n",
       "      <td>(206) 281-8883</td>\n",
       "      <td>2256.828470</td>\n",
       "    </tr>\n",
       "    <tr>\n",
       "      <th>347</th>\n",
       "      <td>rBpjilAA2EsFm8XLbJvLrQ</td>\n",
       "      <td>subway-seattle-144</td>\n",
       "      <td>Subway</td>\n",
       "      <td>https://s3-media2.fl.yelpcdn.com/bphoto/hhaKlJ...</td>\n",
       "      <td>False</td>\n",
       "      <td>https://www.yelp.com/biz/subway-seattle-144?ad...</td>\n",
       "      <td>19</td>\n",
       "      <td>[{'alias': 'sandwiches', 'title': 'Sandwiches'}]</td>\n",
       "      <td>2.5</td>\n",
       "      <td>{'latitude': 47.62177319441, 'longitude': -122...</td>\n",
       "      <td>[delivery, pickup]</td>\n",
       "      <td>$</td>\n",
       "      <td>{'address1': '345 15th Ave E', 'address2': 'St...</td>\n",
       "      <td>+12063231880</td>\n",
       "      <td>(206) 323-1880</td>\n",
       "      <td>1960.112053</td>\n",
       "    </tr>\n",
       "    <tr>\n",
       "      <th>348</th>\n",
       "      <td>paBhY3J17m4k7MqFpslJ4Q</td>\n",
       "      <td>subway-seattle-129</td>\n",
       "      <td>Subway</td>\n",
       "      <td>https://s3-media3.fl.yelpcdn.com/bphoto/ua1Vc0...</td>\n",
       "      <td>False</td>\n",
       "      <td>https://www.yelp.com/biz/subway-seattle-129?ad...</td>\n",
       "      <td>36</td>\n",
       "      <td>[{'alias': 'sandwiches', 'title': 'Sandwiches'}]</td>\n",
       "      <td>2.5</td>\n",
       "      <td>{'latitude': 47.6045761942765, 'longitude': -1...</td>\n",
       "      <td>[delivery, pickup]</td>\n",
       "      <td>$</td>\n",
       "      <td>{'address1': '806 3rd Ave', 'address2': '', 'a...</td>\n",
       "      <td>+12066254342</td>\n",
       "      <td>(206) 625-4342</td>\n",
       "      <td>768.918695</td>\n",
       "    </tr>\n",
       "    <tr>\n",
       "      <th>349</th>\n",
       "      <td>IySZf6Hi1DqGHf0PhAtZng</td>\n",
       "      <td>7-eleven-seattle-28</td>\n",
       "      <td>7-Eleven</td>\n",
       "      <td>https://s3-media1.fl.yelpcdn.com/bphoto/diW2Xw...</td>\n",
       "      <td>False</td>\n",
       "      <td>https://www.yelp.com/biz/7-eleven-seattle-28?a...</td>\n",
       "      <td>17</td>\n",
       "      <td>[{'alias': 'convenience', 'title': 'Convenienc...</td>\n",
       "      <td>3.0</td>\n",
       "      <td>{'latitude': 47.618686570354, 'longitude': -12...</td>\n",
       "      <td>[delivery, pickup]</td>\n",
       "      <td>$</td>\n",
       "      <td>{'address1': '103 15th Ave E', 'address2': '',...</td>\n",
       "      <td>+12063238120</td>\n",
       "      <td>(206) 323-8120</td>\n",
       "      <td>1762.365886</td>\n",
       "    </tr>\n",
       "    <tr>\n",
       "      <th>350</th>\n",
       "      <td>nEZ8Xgkqj2OjQWw0qFpj7A</td>\n",
       "      <td>cherry-street-coffee-house-seattle-2</td>\n",
       "      <td>Cherry Street Coffee House</td>\n",
       "      <td>https://s3-media3.fl.yelpcdn.com/bphoto/vdgyWB...</td>\n",
       "      <td>False</td>\n",
       "      <td>https://www.yelp.com/biz/cherry-street-coffee-...</td>\n",
       "      <td>164</td>\n",
       "      <td>[{'alias': 'coffee', 'title': 'Coffee &amp; Tea'},...</td>\n",
       "      <td>3.5</td>\n",
       "      <td>{'latitude': 47.6161899, 'longitude': -122.351...</td>\n",
       "      <td>[delivery]</td>\n",
       "      <td>$</td>\n",
       "      <td>{'address1': '2719 1st Ave', 'address2': None,...</td>\n",
       "      <td>+12064415489</td>\n",
       "      <td>(206) 441-5489</td>\n",
       "      <td>1418.588219</td>\n",
       "    </tr>\n",
       "  </tbody>\n",
       "</table>\n",
       "</div>"
      ],
      "text/plain": [
       "                         id                                 alias  \\\n",
       "346  hq6gIALemQa6qLANEG1vYQ  racha-thai-and-asian-kitchen-seattle   \n",
       "347  rBpjilAA2EsFm8XLbJvLrQ                    subway-seattle-144   \n",
       "348  paBhY3J17m4k7MqFpslJ4Q                    subway-seattle-129   \n",
       "349  IySZf6Hi1DqGHf0PhAtZng                   7-eleven-seattle-28   \n",
       "350  nEZ8Xgkqj2OjQWw0qFpj7A  cherry-street-coffee-house-seattle-2   \n",
       "\n",
       "                           name  \\\n",
       "346  Racha Thai & Asian Kitchen   \n",
       "347                      Subway   \n",
       "348                      Subway   \n",
       "349                    7-Eleven   \n",
       "350  Cherry Street Coffee House   \n",
       "\n",
       "                                             image_url  is_closed  \\\n",
       "346  https://s3-media3.fl.yelpcdn.com/bphoto/_5ZVIa...      False   \n",
       "347  https://s3-media2.fl.yelpcdn.com/bphoto/hhaKlJ...      False   \n",
       "348  https://s3-media3.fl.yelpcdn.com/bphoto/ua1Vc0...      False   \n",
       "349  https://s3-media1.fl.yelpcdn.com/bphoto/diW2Xw...      False   \n",
       "350  https://s3-media3.fl.yelpcdn.com/bphoto/vdgyWB...      False   \n",
       "\n",
       "                                                   url  review_count  \\\n",
       "346  https://www.yelp.com/biz/racha-thai-and-asian-...           538   \n",
       "347  https://www.yelp.com/biz/subway-seattle-144?ad...            19   \n",
       "348  https://www.yelp.com/biz/subway-seattle-129?ad...            36   \n",
       "349  https://www.yelp.com/biz/7-eleven-seattle-28?a...            17   \n",
       "350  https://www.yelp.com/biz/cherry-street-coffee-...           164   \n",
       "\n",
       "                                            categories  rating  \\\n",
       "346  [{'alias': 'thai', 'title': 'Thai'}, {'alias':...     3.5   \n",
       "347   [{'alias': 'sandwiches', 'title': 'Sandwiches'}]     2.5   \n",
       "348   [{'alias': 'sandwiches', 'title': 'Sandwiches'}]     2.5   \n",
       "349  [{'alias': 'convenience', 'title': 'Convenienc...     3.0   \n",
       "350  [{'alias': 'coffee', 'title': 'Coffee & Tea'},...     3.5   \n",
       "\n",
       "                                           coordinates        transactions  \\\n",
       "346  {'latitude': 47.6249992, 'longitude': -122.356...  [delivery, pickup]   \n",
       "347  {'latitude': 47.62177319441, 'longitude': -122...  [delivery, pickup]   \n",
       "348  {'latitude': 47.6045761942765, 'longitude': -1...  [delivery, pickup]   \n",
       "349  {'latitude': 47.618686570354, 'longitude': -12...  [delivery, pickup]   \n",
       "350  {'latitude': 47.6161899, 'longitude': -122.351...          [delivery]   \n",
       "\n",
       "    price                                           location         phone  \\\n",
       "346    $$  {'address1': '12 Mercer St', 'address2': '', '...  +12062818883   \n",
       "347     $  {'address1': '345 15th Ave E', 'address2': 'St...  +12063231880   \n",
       "348     $  {'address1': '806 3rd Ave', 'address2': '', 'a...  +12066254342   \n",
       "349     $  {'address1': '103 15th Ave E', 'address2': '',...  +12063238120   \n",
       "350     $  {'address1': '2719 1st Ave', 'address2': None,...  +12064415489   \n",
       "\n",
       "      display_phone     distance  \n",
       "346  (206) 281-8883  2256.828470  \n",
       "347  (206) 323-1880  1960.112053  \n",
       "348  (206) 625-4342   768.918695  \n",
       "349  (206) 323-8120  1762.365886  \n",
       "350  (206) 441-5489  1418.588219  "
      ]
     },
     "metadata": {},
     "output_type": "display_data"
    }
   ],
   "source": [
    "# load final results\n",
    "final_df = pd.read_json(JSON_FILE)\n",
    "display(final_df.head(), final_df.tail())"
   ]
  },
  {
   "cell_type": "code",
   "execution_count": 15,
   "id": "757af9e4",
   "metadata": {},
   "outputs": [
    {
     "data": {
      "text/plain": [
       "0"
      ]
     },
     "execution_count": 15,
     "metadata": {},
     "output_type": "execute_result"
    }
   ],
   "source": [
    "# check for duplicate IDs\n",
    "final_df.duplicated(subset='id').sum()"
   ]
  },
  {
   "cell_type": "code",
   "execution_count": 16,
   "id": "6fc42270",
   "metadata": {},
   "outputs": [],
   "source": [
    "# save the final results to a compressed csv\n",
    "final_df.to_csv('Data/final_results_seattle_pizza.csv.gz', compression='gzip',index=False)"
   ]
  },
  {
   "cell_type": "code",
   "execution_count": null,
   "id": "e457d222",
   "metadata": {},
   "outputs": [],
   "source": []
  },
  {
   "cell_type": "code",
   "execution_count": null,
   "id": "1e3c71d4",
   "metadata": {},
   "outputs": [],
   "source": []
  },
  {
   "cell_type": "code",
   "execution_count": null,
   "id": "341e014c",
   "metadata": {},
   "outputs": [],
   "source": []
  },
  {
   "cell_type": "code",
   "execution_count": null,
   "id": "9493271a",
   "metadata": {},
   "outputs": [],
   "source": []
  }
 ],
 "metadata": {
  "kernelspec": {
   "display_name": "Python (dojo-env)",
   "language": "python",
   "name": "dojo-env"
  },
  "language_info": {
   "codemirror_mode": {
    "name": "ipython",
    "version": 3
   },
   "file_extension": ".py",
   "mimetype": "text/x-python",
   "name": "python",
   "nbconvert_exporter": "python",
   "pygments_lexer": "ipython3",
   "version": "3.7.12"
  },
  "toc": {
   "base_numbering": 1,
   "nav_menu": {},
   "number_sections": true,
   "sideBar": true,
   "skip_h1_title": false,
   "title_cell": "Table of Contents",
   "title_sidebar": "Contents",
   "toc_cell": false,
   "toc_position": {},
   "toc_section_display": true,
   "toc_window_display": false
  }
 },
 "nbformat": 4,
 "nbformat_minor": 5
}
