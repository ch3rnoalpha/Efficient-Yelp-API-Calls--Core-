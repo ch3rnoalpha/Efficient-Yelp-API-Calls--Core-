{
 "cells": [
  {
   "cell_type": "code",
   "execution_count": null,
   "id": "7904d310",
   "metadata": {},
   "outputs": [],
   "source": [
    "## Standard Imports\n",
    "import numpy as np\n",
    "import pandas as pd\n",
    "import matplotlib.pyplot as plt\n",
    "import seaborn as sns\n",
    "## Importing the OS and JSON Modules\n",
    "import os,json"
   ]
  },
  {
   "cell_type": "markdown",
   "id": "a59c3cfa",
   "metadata": {},
   "source": [
    "# Part 1"
   ]
  },
  {
   "cell_type": "code",
   "execution_count": null,
   "id": "5dd925d0",
   "metadata": {},
   "outputs": [],
   "source": [
    "df = pd.read_csv('YOUR_PATH/final_results_crab_cakes.csv.gz')\n",
    "df.head()"
   ]
  },
  {
   "cell_type": "code",
   "execution_count": null,
   "id": "8d83e93b",
   "metadata": {},
   "outputs": [],
   "source": [
    "df.info()"
   ]
  },
  {
   "cell_type": "code",
   "execution_count": null,
   "id": "405bf91a",
   "metadata": {},
   "outputs": [],
   "source": [
    "# Exploring existing format with a few examples\n",
    "df['display_phone'].head(2)"
   ]
  },
  {
   "cell_type": "code",
   "execution_count": null,
   "id": "d866627c",
   "metadata": {},
   "outputs": [],
   "source": [
    "## adding expand=True\n",
    "df['display_phone'].str.split(' ',expand=True)"
   ]
  },
  {
   "cell_type": "code",
   "execution_count": null,
   "id": "4145fd79",
   "metadata": {},
   "outputs": [],
   "source": [
    "## save the 2 new columns into the dataframe\n",
    "df[['area_code','phone_number']] = df['display_phone'].str.split(' ',expand=True)\n",
    "df.head(2)"
   ]
  },
  {
   "cell_type": "code",
   "execution_count": null,
   "id": "2ccb5462",
   "metadata": {},
   "outputs": [],
   "source": [
    "## drop the original column \n",
    "df = df.drop(columns=['display_phone', 'phone'])\n",
    "df.head(2)"
   ]
  },
  {
   "cell_type": "code",
   "execution_count": null,
   "id": "cf8b2f81",
   "metadata": {},
   "outputs": [],
   "source": [
    "# Make a list of all characters to replace\n",
    "to_replace = ['(',')']\n",
    "# run a loop to replace all of the characters in the list at once\n",
    "for char in to_replace:\n",
    "    df['area_code'] = df['area_code'].str.replace(char,'',regex=False)\n",
    "    \n",
    "df['area_code'].head()"
   ]
  },
  {
   "cell_type": "code",
   "execution_count": null,
   "id": "d8200c68",
   "metadata": {},
   "outputs": [],
   "source": [
    "## examining a single value from the coordinates col\n",
    "coord = df.loc[0,\"coordinates\"]\n",
    "print(type(coord))\n",
    "coord"
   ]
  },
  {
   "cell_type": "code",
   "execution_count": null,
   "id": "1a5d1775",
   "metadata": {},
   "outputs": [],
   "source": [
    "import json\n",
    "json.loads(coord)"
   ]
  },
  {
   "cell_type": "code",
   "execution_count": null,
   "id": "1e703079",
   "metadata": {},
   "outputs": [],
   "source": [
    "#Hmmm, we hit an error. According to the error message, it looks like json.loads \n",
    "# is not happy that these string-dictionaries use single quotes instead of double quotes.\n",
    "#If we look again at our test_coord we can see that the string uses single quotes for all of the key names such as 'latitude'"
   ]
  },
  {
   "cell_type": "code",
   "execution_count": null,
   "id": "dc2f9917",
   "metadata": {},
   "outputs": [],
   "source": [
    "coord"
   ]
  },
  {
   "cell_type": "code",
   "execution_count": null,
   "id": "5aa452ec",
   "metadata": {},
   "outputs": [],
   "source": [
    "coord = coord.replace(\"'\",'\"')\n",
    "coord"
   ]
  },
  {
   "cell_type": "code",
   "execution_count": null,
   "id": "1eb005b8",
   "metadata": {},
   "outputs": [],
   "source": [
    "## now we can use json.loads\n",
    "fixed_coord = json.loads(coord)\n",
    "print(type(fixed_coord))\n",
    "fixed_coord"
   ]
  },
  {
   "cell_type": "code",
   "execution_count": null,
   "id": "bc5824ea",
   "metadata": {},
   "outputs": [],
   "source": [
    "## use .str.replace to replace all single quotes\n",
    "df['coordinates'] = df['coordinates'].str.replace(\"'\",'\"')\n",
    "## Apply the json.loads to the full column\n",
    "df['coordinates'] = df['coordinates'].apply(json.loads)\n",
    "df['coordinates'].head()"
   ]
  },
  {
   "cell_type": "code",
   "execution_count": null,
   "id": "cd6ba108",
   "metadata": {},
   "outputs": [],
   "source": [
    "## check a single value after transformation\n",
    "test_coord = df.loc[0, 'coordinates']\n",
    "print(type(test_coord))\n",
    "test_coord"
   ]
  },
  {
   "cell_type": "code",
   "execution_count": null,
   "id": "efebe486",
   "metadata": {},
   "outputs": [],
   "source": [
    "lat_long = df['coordinates'].apply(pd.Series)\n",
    "lat_long"
   ]
  },
  {
   "cell_type": "code",
   "execution_count": null,
   "id": "330eaf00",
   "metadata": {},
   "outputs": [],
   "source": [
    "# concat long_lat with original dataframe\n",
    "df = pd.concat((df, lat_long), axis = 1)\n",
    "df.head(2)"
   ]
  },
  {
   "cell_type": "code",
   "execution_count": null,
   "id": "dd6bfa02",
   "metadata": {},
   "outputs": [],
   "source": [
    "df = df.drop(columns=['coordinates'])"
   ]
  },
  {
   "cell_type": "code",
   "execution_count": null,
   "id": "ce6e4e87",
   "metadata": {},
   "outputs": [],
   "source": [
    "## showing the lists are really strings\n",
    "df.loc[2,'transactions']"
   ]
  },
  {
   "cell_type": "code",
   "execution_count": null,
   "id": "965415a4",
   "metadata": {},
   "outputs": [],
   "source": [
    "# Create a new column where the single quotes are replaced by double quotes\n",
    "df['transactions_split'] = df['transactions'].str.replace(\"'\",'\"')"
   ]
  },
  {
   "cell_type": "code",
   "execution_count": null,
   "id": "29f7d35c",
   "metadata": {},
   "outputs": [],
   "source": [
    "# Apply json.loads to entire column\n",
    "df['transactions_split'] = df['transactions_split'].apply(json.loads)\n",
    "# check results\n",
    "df['transactions_split'].head()"
   ]
  },
  {
   "cell_type": "code",
   "execution_count": null,
   "id": "955a371b",
   "metadata": {},
   "outputs": [],
   "source": [
    "df['transactions_split'].value_counts()"
   ]
  },
  {
   "cell_type": "code",
   "execution_count": null,
   "id": "a3d8dfe1",
   "metadata": {},
   "outputs": [],
   "source": [
    "## exploding the column of lists\n",
    "exploded = df.explode('transactions_split')\n",
    "exploded[['name','transactions','transactions_split']].head(5)"
   ]
  },
  {
   "cell_type": "code",
   "execution_count": null,
   "id": "396c0e64",
   "metadata": {},
   "outputs": [],
   "source": [
    "## saving the unique values from the exploded column\n",
    "cols_to_make = exploded['transactions_split'].dropna().unique()\n",
    "cols_to_make"
   ]
  },
  {
   "cell_type": "code",
   "execution_count": null,
   "id": "c212673a",
   "metadata": {},
   "outputs": [],
   "source": [
    "for col in cols_to_make:\n",
    "    df[col] = df['transactions'].str.contains(col)\n",
    "df.head()"
   ]
  },
  {
   "cell_type": "markdown",
   "id": "fe336864",
   "metadata": {},
   "source": [
    "# part 2"
   ]
  },
  {
   "cell_type": "code",
   "execution_count": null,
   "id": "789a6fe5",
   "metadata": {},
   "outputs": [],
   "source": [
    "# https://login.codingdojo.com/m/376/12529/88088"
   ]
  },
  {
   "cell_type": "code",
   "execution_count": null,
   "id": "e10e7d41",
   "metadata": {},
   "outputs": [],
   "source": [
    "## get the unique ids\n",
    "unique_ids = sorted(df['id'].unique())\n",
    "unique_ids[:3]"
   ]
  },
  {
   "cell_type": "code",
   "execution_count": null,
   "id": "adf2119d",
   "metadata": {},
   "outputs": [],
   "source": [
    "## make integers for each id\n",
    "int_ids = range(len(unique_ids))\n",
    "int_ids"
   ]
  },
  {
   "cell_type": "code",
   "execution_count": null,
   "id": "6f20ed16",
   "metadata": {},
   "outputs": [],
   "source": []
  },
  {
   "cell_type": "code",
   "execution_count": null,
   "id": "76fefab4",
   "metadata": {},
   "outputs": [],
   "source": []
  },
  {
   "cell_type": "code",
   "execution_count": null,
   "id": "5d9ab41e",
   "metadata": {},
   "outputs": [],
   "source": []
  },
  {
   "cell_type": "code",
   "execution_count": null,
   "id": "dceb9442",
   "metadata": {},
   "outputs": [],
   "source": []
  },
  {
   "cell_type": "code",
   "execution_count": null,
   "id": "5e815c09",
   "metadata": {},
   "outputs": [],
   "source": []
  },
  {
   "cell_type": "code",
   "execution_count": null,
   "id": "64f8305e",
   "metadata": {},
   "outputs": [],
   "source": []
  },
  {
   "cell_type": "code",
   "execution_count": null,
   "id": "061a0db5",
   "metadata": {},
   "outputs": [],
   "source": []
  },
  {
   "cell_type": "code",
   "execution_count": null,
   "id": "428ce542",
   "metadata": {},
   "outputs": [],
   "source": []
  },
  {
   "cell_type": "code",
   "execution_count": null,
   "id": "56db372e",
   "metadata": {},
   "outputs": [],
   "source": []
  },
  {
   "cell_type": "code",
   "execution_count": null,
   "id": "d84981fe",
   "metadata": {},
   "outputs": [],
   "source": []
  },
  {
   "cell_type": "code",
   "execution_count": null,
   "id": "91a33532",
   "metadata": {},
   "outputs": [],
   "source": []
  },
  {
   "cell_type": "code",
   "execution_count": null,
   "id": "8050832e",
   "metadata": {},
   "outputs": [],
   "source": []
  },
  {
   "cell_type": "code",
   "execution_count": null,
   "id": "5c606a06",
   "metadata": {},
   "outputs": [],
   "source": []
  },
  {
   "cell_type": "code",
   "execution_count": null,
   "id": "f5fc9cbe",
   "metadata": {},
   "outputs": [],
   "source": []
  },
  {
   "cell_type": "code",
   "execution_count": null,
   "id": "ca5f0742",
   "metadata": {},
   "outputs": [],
   "source": []
  },
  {
   "cell_type": "code",
   "execution_count": null,
   "id": "83dc3871",
   "metadata": {},
   "outputs": [],
   "source": []
  },
  {
   "cell_type": "code",
   "execution_count": null,
   "id": "f749a494",
   "metadata": {},
   "outputs": [],
   "source": []
  },
  {
   "cell_type": "code",
   "execution_count": null,
   "id": "8c9fab97",
   "metadata": {},
   "outputs": [],
   "source": []
  },
  {
   "cell_type": "code",
   "execution_count": null,
   "id": "19dbd365",
   "metadata": {},
   "outputs": [],
   "source": []
  },
  {
   "cell_type": "code",
   "execution_count": null,
   "id": "5cf93f1c",
   "metadata": {},
   "outputs": [],
   "source": []
  },
  {
   "cell_type": "code",
   "execution_count": null,
   "id": "b642a1ee",
   "metadata": {},
   "outputs": [],
   "source": []
  },
  {
   "cell_type": "code",
   "execution_count": null,
   "id": "9b0719b2",
   "metadata": {},
   "outputs": [],
   "source": []
  },
  {
   "cell_type": "code",
   "execution_count": null,
   "id": "620730e3",
   "metadata": {},
   "outputs": [],
   "source": []
  }
 ],
 "metadata": {
  "kernelspec": {
   "display_name": "Python (dojo-env)",
   "language": "python",
   "name": "dojo-env"
  },
  "language_info": {
   "codemirror_mode": {
    "name": "ipython",
    "version": 3
   },
   "file_extension": ".py",
   "mimetype": "text/x-python",
   "name": "python",
   "nbconvert_exporter": "python",
   "pygments_lexer": "ipython3",
   "version": "3.7.12"
  },
  "toc": {
   "base_numbering": 1,
   "nav_menu": {},
   "number_sections": true,
   "sideBar": true,
   "skip_h1_title": false,
   "title_cell": "Table of Contents",
   "title_sidebar": "Contents",
   "toc_cell": false,
   "toc_position": {},
   "toc_section_display": true,
   "toc_window_display": false
  }
 },
 "nbformat": 4,
 "nbformat_minor": 5
}
